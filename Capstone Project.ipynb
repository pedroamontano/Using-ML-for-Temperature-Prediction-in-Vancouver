{
 "cells": [
  {
   "cell_type": "code",
   "execution_count": 1,
   "id": "59606f21",
   "metadata": {},
   "outputs": [],
   "source": [
    "import numpy as np\n",
    "import pandas as pd\n",
    "import matplotlib.pyplot as plt\n",
    "import seaborn as sns\n",
    "import statsmodels.api as sm\n",
    "from scipy import stats\n",
    "from scipy.stats import norm\n",
    "from scipy.stats import chi2_contingency\n",
    "from scipy.stats import pearsonr\n",
    "import plotly.express as px\n",
    "from plotly.subplots import make_subplots\n",
    "import plotly.graph_objs as go\n",
    "import calendar"
   ]
  },
  {
   "cell_type": "code",
   "execution_count": 2,
   "id": "f201d409",
   "metadata": {},
   "outputs": [
    {
     "data": {
      "text/html": [
       "<div>\n",
       "<style scoped>\n",
       "    .dataframe tbody tr th:only-of-type {\n",
       "        vertical-align: middle;\n",
       "    }\n",
       "\n",
       "    .dataframe tbody tr th {\n",
       "        vertical-align: top;\n",
       "    }\n",
       "\n",
       "    .dataframe thead th {\n",
       "        text-align: right;\n",
       "    }\n",
       "</style>\n",
       "<table border=\"1\" class=\"dataframe\">\n",
       "  <thead>\n",
       "    <tr style=\"text-align: right;\">\n",
       "      <th></th>\n",
       "      <th>date_time_local</th>\n",
       "      <th>pressure_station</th>\n",
       "      <th>pressure_sea</th>\n",
       "      <th>wind_dir</th>\n",
       "      <th>wind_dir_10s</th>\n",
       "      <th>wind_speed</th>\n",
       "      <th>wind_gust</th>\n",
       "      <th>relative_humidity</th>\n",
       "      <th>dew_point</th>\n",
       "      <th>temperature</th>\n",
       "      <th>windchill</th>\n",
       "      <th>humidex</th>\n",
       "      <th>visibility</th>\n",
       "      <th>health_index</th>\n",
       "      <th>cloud_okta</th>\n",
       "      <th>max_air_temp_pst1hr</th>\n",
       "      <th>min_air_temp_pst1hr</th>\n",
       "    </tr>\n",
       "  </thead>\n",
       "  <tbody>\n",
       "    <tr>\n",
       "      <th>0</th>\n",
       "      <td>2013-07-01 00:00:00 PDT</td>\n",
       "      <td>101.18</td>\n",
       "      <td>101.16</td>\n",
       "      <td>SSE</td>\n",
       "      <td>16.0</td>\n",
       "      <td>7</td>\n",
       "      <td>NaN</td>\n",
       "      <td>91</td>\n",
       "      <td>18.2</td>\n",
       "      <td>19.7</td>\n",
       "      <td>0.0</td>\n",
       "      <td>0.0</td>\n",
       "      <td>32200.0</td>\n",
       "      <td>2.9</td>\n",
       "      <td>NaN</td>\n",
       "      <td>19.4</td>\n",
       "      <td>18.5</td>\n",
       "    </tr>\n",
       "    <tr>\n",
       "      <th>1</th>\n",
       "      <td>2013-07-01 01:00:00 PDT</td>\n",
       "      <td>101.22</td>\n",
       "      <td>101.21</td>\n",
       "      <td>SE</td>\n",
       "      <td>13.0</td>\n",
       "      <td>6</td>\n",
       "      <td>NaN</td>\n",
       "      <td>89</td>\n",
       "      <td>17.8</td>\n",
       "      <td>19.6</td>\n",
       "      <td>0.0</td>\n",
       "      <td>0.0</td>\n",
       "      <td>32200.0</td>\n",
       "      <td>3.0</td>\n",
       "      <td>NaN</td>\n",
       "      <td>20.1</td>\n",
       "      <td>18.7</td>\n",
       "    </tr>\n",
       "    <tr>\n",
       "      <th>2</th>\n",
       "      <td>2013-07-01 02:00:00 PDT</td>\n",
       "      <td>101.26</td>\n",
       "      <td>101.24</td>\n",
       "      <td>E</td>\n",
       "      <td>10.0</td>\n",
       "      <td>11</td>\n",
       "      <td>NaN</td>\n",
       "      <td>88</td>\n",
       "      <td>16.7</td>\n",
       "      <td>18.7</td>\n",
       "      <td>0.0</td>\n",
       "      <td>0.0</td>\n",
       "      <td>32200.0</td>\n",
       "      <td>3.0</td>\n",
       "      <td>NaN</td>\n",
       "      <td>19.8</td>\n",
       "      <td>18.0</td>\n",
       "    </tr>\n",
       "    <tr>\n",
       "      <th>3</th>\n",
       "      <td>2013-07-01 03:00:00 PDT</td>\n",
       "      <td>101.26</td>\n",
       "      <td>101.25</td>\n",
       "      <td>E</td>\n",
       "      <td>10.0</td>\n",
       "      <td>4</td>\n",
       "      <td>NaN</td>\n",
       "      <td>84</td>\n",
       "      <td>16.5</td>\n",
       "      <td>19.2</td>\n",
       "      <td>0.0</td>\n",
       "      <td>0.0</td>\n",
       "      <td>32200.0</td>\n",
       "      <td>2.7</td>\n",
       "      <td>NaN</td>\n",
       "      <td>18.5</td>\n",
       "      <td>17.5</td>\n",
       "    </tr>\n",
       "    <tr>\n",
       "      <th>4</th>\n",
       "      <td>2013-07-01 04:00:00 PDT</td>\n",
       "      <td>101.30</td>\n",
       "      <td>101.28</td>\n",
       "      <td>NNW</td>\n",
       "      <td>33.0</td>\n",
       "      <td>5</td>\n",
       "      <td>NaN</td>\n",
       "      <td>87</td>\n",
       "      <td>15.7</td>\n",
       "      <td>17.9</td>\n",
       "      <td>0.0</td>\n",
       "      <td>0.0</td>\n",
       "      <td>32200.0</td>\n",
       "      <td>2.6</td>\n",
       "      <td>NaN</td>\n",
       "      <td>18.8</td>\n",
       "      <td>17.3</td>\n",
       "    </tr>\n",
       "  </tbody>\n",
       "</table>\n",
       "</div>"
      ],
      "text/plain": [
       "           date_time_local  pressure_station  pressure_sea wind_dir  \\\n",
       "0  2013-07-01 00:00:00 PDT            101.18        101.16      SSE   \n",
       "1  2013-07-01 01:00:00 PDT            101.22        101.21       SE   \n",
       "2  2013-07-01 02:00:00 PDT            101.26        101.24        E   \n",
       "3  2013-07-01 03:00:00 PDT            101.26        101.25        E   \n",
       "4  2013-07-01 04:00:00 PDT            101.30        101.28      NNW   \n",
       "\n",
       "   wind_dir_10s  wind_speed  wind_gust  relative_humidity  dew_point  \\\n",
       "0          16.0           7        NaN                 91       18.2   \n",
       "1          13.0           6        NaN                 89       17.8   \n",
       "2          10.0          11        NaN                 88       16.7   \n",
       "3          10.0           4        NaN                 84       16.5   \n",
       "4          33.0           5        NaN                 87       15.7   \n",
       "\n",
       "   temperature  windchill  humidex  visibility  health_index  cloud_okta  \\\n",
       "0         19.7        0.0      0.0     32200.0           2.9         NaN   \n",
       "1         19.6        0.0      0.0     32200.0           3.0         NaN   \n",
       "2         18.7        0.0      0.0     32200.0           3.0         NaN   \n",
       "3         19.2        0.0      0.0     32200.0           2.7         NaN   \n",
       "4         17.9        0.0      0.0     32200.0           2.6         NaN   \n",
       "\n",
       "   max_air_temp_pst1hr  min_air_temp_pst1hr  \n",
       "0                 19.4                 18.5  \n",
       "1                 20.1                 18.7  \n",
       "2                 19.8                 18.0  \n",
       "3                 18.5                 17.5  \n",
       "4                 18.8                 17.3  "
      ]
     },
     "execution_count": 2,
     "metadata": {},
     "output_type": "execute_result"
    }
   ],
   "source": [
    "df = pd.read_csv('data/weatherstats_vancouver_hourly_excelclean.csv')\n",
    "df.head()"
   ]
  },
  {
   "cell_type": "code",
   "execution_count": 3,
   "id": "5b7bf9dc",
   "metadata": {},
   "outputs": [
    {
     "name": "stdout",
     "output_type": "stream",
     "text": [
      "<class 'pandas.core.frame.DataFrame'>\n",
      "RangeIndex: 87648 entries, 0 to 87647\n",
      "Data columns (total 17 columns):\n",
      " #   Column               Non-Null Count  Dtype  \n",
      "---  ------               --------------  -----  \n",
      " 0   date_time_local      87648 non-null  object \n",
      " 1   pressure_station     87648 non-null  float64\n",
      " 2   pressure_sea         87648 non-null  float64\n",
      " 3   wind_dir             87648 non-null  object \n",
      " 4   wind_dir_10s         87617 non-null  float64\n",
      " 5   wind_speed           87648 non-null  int64  \n",
      " 6   wind_gust            7872 non-null   float64\n",
      " 7   relative_humidity    87648 non-null  int64  \n",
      " 8   dew_point            87648 non-null  float64\n",
      " 9   temperature          87648 non-null  float64\n",
      " 10  windchill            87642 non-null  float64\n",
      " 11  humidex              85631 non-null  float64\n",
      " 12  visibility           87606 non-null  float64\n",
      " 13  health_index         86746 non-null  float64\n",
      " 14  cloud_okta           84593 non-null  float64\n",
      " 15  max_air_temp_pst1hr  87412 non-null  float64\n",
      " 16  min_air_temp_pst1hr  87412 non-null  float64\n",
      "dtypes: float64(13), int64(2), object(2)\n",
      "memory usage: 11.4+ MB\n"
     ]
    }
   ],
   "source": [
    "df.info()"
   ]
  },
  {
   "cell_type": "code",
   "execution_count": 4,
   "id": "d50d0980",
   "metadata": {},
   "outputs": [
    {
     "name": "stderr",
     "output_type": "stream",
     "text": [
      "C:\\Users\\pedro\\anaconda3\\Lib\\site-packages\\dateutil\\parser\\_parser.py:1207: UnknownTimezoneWarning: tzname PDT identified but not understood.  Pass `tzinfos` argument in order to correctly return a timezone-aware datetime.  In a future version, this will raise an exception.\n",
      "  warnings.warn(\"tzname {tzname} identified but not understood.  \"\n",
      "C:\\Users\\pedro\\anaconda3\\Lib\\site-packages\\dateutil\\parser\\_parser.py:1207: UnknownTimezoneWarning: tzname PST identified but not understood.  Pass `tzinfos` argument in order to correctly return a timezone-aware datetime.  In a future version, this will raise an exception.\n",
      "  warnings.warn(\"tzname {tzname} identified but not understood.  \"\n"
     ]
    },
    {
     "data": {
      "text/html": [
       "<div>\n",
       "<style scoped>\n",
       "    .dataframe tbody tr th:only-of-type {\n",
       "        vertical-align: middle;\n",
       "    }\n",
       "\n",
       "    .dataframe tbody tr th {\n",
       "        vertical-align: top;\n",
       "    }\n",
       "\n",
       "    .dataframe thead th {\n",
       "        text-align: right;\n",
       "    }\n",
       "</style>\n",
       "<table border=\"1\" class=\"dataframe\">\n",
       "  <thead>\n",
       "    <tr style=\"text-align: right;\">\n",
       "      <th></th>\n",
       "      <th>pressure_station</th>\n",
       "      <th>pressure_sea</th>\n",
       "      <th>wind_dir</th>\n",
       "      <th>wind_dir_10s</th>\n",
       "      <th>wind_speed</th>\n",
       "      <th>wind_gust</th>\n",
       "      <th>relative_humidity</th>\n",
       "      <th>dew_point</th>\n",
       "      <th>temperature</th>\n",
       "      <th>windchill</th>\n",
       "      <th>humidex</th>\n",
       "      <th>visibility</th>\n",
       "      <th>health_index</th>\n",
       "      <th>cloud_okta</th>\n",
       "      <th>max_air_temp_pst1hr</th>\n",
       "      <th>min_air_temp_pst1hr</th>\n",
       "    </tr>\n",
       "    <tr>\n",
       "      <th>date_time_local</th>\n",
       "      <th></th>\n",
       "      <th></th>\n",
       "      <th></th>\n",
       "      <th></th>\n",
       "      <th></th>\n",
       "      <th></th>\n",
       "      <th></th>\n",
       "      <th></th>\n",
       "      <th></th>\n",
       "      <th></th>\n",
       "      <th></th>\n",
       "      <th></th>\n",
       "      <th></th>\n",
       "      <th></th>\n",
       "      <th></th>\n",
       "      <th></th>\n",
       "    </tr>\n",
       "  </thead>\n",
       "  <tbody>\n",
       "    <tr>\n",
       "      <th>2013-07-01 00:00:00</th>\n",
       "      <td>101.18</td>\n",
       "      <td>101.16</td>\n",
       "      <td>SSE</td>\n",
       "      <td>16.0</td>\n",
       "      <td>7</td>\n",
       "      <td>NaN</td>\n",
       "      <td>91</td>\n",
       "      <td>18.2</td>\n",
       "      <td>19.7</td>\n",
       "      <td>0.0</td>\n",
       "      <td>0.0</td>\n",
       "      <td>32200.0</td>\n",
       "      <td>2.9</td>\n",
       "      <td>NaN</td>\n",
       "      <td>19.4</td>\n",
       "      <td>18.5</td>\n",
       "    </tr>\n",
       "    <tr>\n",
       "      <th>2013-07-01 01:00:00</th>\n",
       "      <td>101.22</td>\n",
       "      <td>101.21</td>\n",
       "      <td>SE</td>\n",
       "      <td>13.0</td>\n",
       "      <td>6</td>\n",
       "      <td>NaN</td>\n",
       "      <td>89</td>\n",
       "      <td>17.8</td>\n",
       "      <td>19.6</td>\n",
       "      <td>0.0</td>\n",
       "      <td>0.0</td>\n",
       "      <td>32200.0</td>\n",
       "      <td>3.0</td>\n",
       "      <td>NaN</td>\n",
       "      <td>20.1</td>\n",
       "      <td>18.7</td>\n",
       "    </tr>\n",
       "    <tr>\n",
       "      <th>2013-07-01 02:00:00</th>\n",
       "      <td>101.26</td>\n",
       "      <td>101.24</td>\n",
       "      <td>E</td>\n",
       "      <td>10.0</td>\n",
       "      <td>11</td>\n",
       "      <td>NaN</td>\n",
       "      <td>88</td>\n",
       "      <td>16.7</td>\n",
       "      <td>18.7</td>\n",
       "      <td>0.0</td>\n",
       "      <td>0.0</td>\n",
       "      <td>32200.0</td>\n",
       "      <td>3.0</td>\n",
       "      <td>NaN</td>\n",
       "      <td>19.8</td>\n",
       "      <td>18.0</td>\n",
       "    </tr>\n",
       "    <tr>\n",
       "      <th>2013-07-01 03:00:00</th>\n",
       "      <td>101.26</td>\n",
       "      <td>101.25</td>\n",
       "      <td>E</td>\n",
       "      <td>10.0</td>\n",
       "      <td>4</td>\n",
       "      <td>NaN</td>\n",
       "      <td>84</td>\n",
       "      <td>16.5</td>\n",
       "      <td>19.2</td>\n",
       "      <td>0.0</td>\n",
       "      <td>0.0</td>\n",
       "      <td>32200.0</td>\n",
       "      <td>2.7</td>\n",
       "      <td>NaN</td>\n",
       "      <td>18.5</td>\n",
       "      <td>17.5</td>\n",
       "    </tr>\n",
       "    <tr>\n",
       "      <th>2013-07-01 04:00:00</th>\n",
       "      <td>101.30</td>\n",
       "      <td>101.28</td>\n",
       "      <td>NNW</td>\n",
       "      <td>33.0</td>\n",
       "      <td>5</td>\n",
       "      <td>NaN</td>\n",
       "      <td>87</td>\n",
       "      <td>15.7</td>\n",
       "      <td>17.9</td>\n",
       "      <td>0.0</td>\n",
       "      <td>0.0</td>\n",
       "      <td>32200.0</td>\n",
       "      <td>2.6</td>\n",
       "      <td>NaN</td>\n",
       "      <td>18.8</td>\n",
       "      <td>17.3</td>\n",
       "    </tr>\n",
       "  </tbody>\n",
       "</table>\n",
       "</div>"
      ],
      "text/plain": [
       "                     pressure_station  pressure_sea wind_dir  wind_dir_10s  \\\n",
       "date_time_local                                                              \n",
       "2013-07-01 00:00:00            101.18        101.16      SSE          16.0   \n",
       "2013-07-01 01:00:00            101.22        101.21       SE          13.0   \n",
       "2013-07-01 02:00:00            101.26        101.24        E          10.0   \n",
       "2013-07-01 03:00:00            101.26        101.25        E          10.0   \n",
       "2013-07-01 04:00:00            101.30        101.28      NNW          33.0   \n",
       "\n",
       "                     wind_speed  wind_gust  relative_humidity  dew_point  \\\n",
       "date_time_local                                                            \n",
       "2013-07-01 00:00:00           7        NaN                 91       18.2   \n",
       "2013-07-01 01:00:00           6        NaN                 89       17.8   \n",
       "2013-07-01 02:00:00          11        NaN                 88       16.7   \n",
       "2013-07-01 03:00:00           4        NaN                 84       16.5   \n",
       "2013-07-01 04:00:00           5        NaN                 87       15.7   \n",
       "\n",
       "                     temperature  windchill  humidex  visibility  \\\n",
       "date_time_local                                                    \n",
       "2013-07-01 00:00:00         19.7        0.0      0.0     32200.0   \n",
       "2013-07-01 01:00:00         19.6        0.0      0.0     32200.0   \n",
       "2013-07-01 02:00:00         18.7        0.0      0.0     32200.0   \n",
       "2013-07-01 03:00:00         19.2        0.0      0.0     32200.0   \n",
       "2013-07-01 04:00:00         17.9        0.0      0.0     32200.0   \n",
       "\n",
       "                     health_index  cloud_okta  max_air_temp_pst1hr  \\\n",
       "date_time_local                                                      \n",
       "2013-07-01 00:00:00           2.9         NaN                 19.4   \n",
       "2013-07-01 01:00:00           3.0         NaN                 20.1   \n",
       "2013-07-01 02:00:00           3.0         NaN                 19.8   \n",
       "2013-07-01 03:00:00           2.7         NaN                 18.5   \n",
       "2013-07-01 04:00:00           2.6         NaN                 18.8   \n",
       "\n",
       "                     min_air_temp_pst1hr  \n",
       "date_time_local                           \n",
       "2013-07-01 00:00:00                 18.5  \n",
       "2013-07-01 01:00:00                 18.7  \n",
       "2013-07-01 02:00:00                 18.0  \n",
       "2013-07-01 03:00:00                 17.5  \n",
       "2013-07-01 04:00:00                 17.3  "
      ]
     },
     "execution_count": 4,
     "metadata": {},
     "output_type": "execute_result"
    }
   ],
   "source": [
    "# Changed data type for date to datetime. Used utc=False argument to remove the PDT indicator as it was causing an error.\n",
    "df['date_time_local'] = pd.to_datetime(df['date_time_local'], utc=False)\n",
    "df = df.set_index('date_time_local')\n",
    "df.head()"
   ]
  },
  {
   "cell_type": "code",
   "execution_count": 5,
   "id": "41b3b327",
   "metadata": {},
   "outputs": [
    {
     "name": "stdout",
     "output_type": "stream",
     "text": [
      "<class 'pandas.core.frame.DataFrame'>\n",
      "DatetimeIndex: 87648 entries, 2013-07-01 00:00:00 to 2023-06-30 23:00:00\n",
      "Data columns (total 16 columns):\n",
      " #   Column               Non-Null Count  Dtype  \n",
      "---  ------               --------------  -----  \n",
      " 0   pressure_station     87648 non-null  float64\n",
      " 1   pressure_sea         87648 non-null  float64\n",
      " 2   wind_dir             87648 non-null  object \n",
      " 3   wind_dir_10s         87617 non-null  float64\n",
      " 4   wind_speed           87648 non-null  int64  \n",
      " 5   wind_gust            7872 non-null   float64\n",
      " 6   relative_humidity    87648 non-null  int64  \n",
      " 7   dew_point            87648 non-null  float64\n",
      " 8   temperature          87648 non-null  float64\n",
      " 9   windchill            87642 non-null  float64\n",
      " 10  humidex              85631 non-null  float64\n",
      " 11  visibility           87606 non-null  float64\n",
      " 12  health_index         86746 non-null  float64\n",
      " 13  cloud_okta           84593 non-null  float64\n",
      " 14  max_air_temp_pst1hr  87412 non-null  float64\n",
      " 15  min_air_temp_pst1hr  87412 non-null  float64\n",
      "dtypes: float64(13), int64(2), object(1)\n",
      "memory usage: 11.4+ MB\n"
     ]
    }
   ],
   "source": [
    "# Confirmed, 'date_time_local' has been changed to datetime type and it has been set as an index.\n",
    "df.info()"
   ]
  },
  {
   "cell_type": "code",
   "execution_count": 6,
   "id": "14ac1155",
   "metadata": {},
   "outputs": [
    {
     "data": {
      "text/plain": [
       "pressure_station           0\n",
       "pressure_sea               0\n",
       "wind_dir                   0\n",
       "wind_dir_10s              31\n",
       "wind_speed                 0\n",
       "wind_gust              79776\n",
       "relative_humidity          0\n",
       "dew_point                  0\n",
       "temperature                0\n",
       "windchill                  6\n",
       "humidex                 2017\n",
       "visibility                42\n",
       "health_index             902\n",
       "cloud_okta              3055\n",
       "max_air_temp_pst1hr      236\n",
       "min_air_temp_pst1hr      236\n",
       "dtype: int64"
      ]
     },
     "execution_count": 6,
     "metadata": {},
     "output_type": "execute_result"
    }
   ],
   "source": [
    "# We need to clean the rest of the data and we will start by identifying the missing values.\n",
    "df.isna().sum()"
   ]
  },
  {
   "cell_type": "code",
   "execution_count": 7,
   "id": "04bbaf56",
   "metadata": {},
   "outputs": [],
   "source": [
    "# The wind_dir_10s is a mirror of the wind_dir column. It states wind direction in degrees instead of the cardinal directions.\n",
    "df = df.drop('wind_dir_10s', axis=1)"
   ]
  },
  {
   "cell_type": "code",
   "execution_count": 8,
   "id": "d1a2ccf7",
   "metadata": {},
   "outputs": [],
   "source": [
    "# I'm creating a copy of the dataframe here before I being filling NA values.\n",
    "df2 = df.copy()"
   ]
  },
  {
   "cell_type": "code",
   "execution_count": 9,
   "id": "be32b061",
   "metadata": {},
   "outputs": [],
   "source": [
    "# This is the formula to calculate the humidex.\n",
    "humidex = (df['temperature'] + 0.5555 * ((6.11 * 2.71828 ** (5417.753 * ((1/273.16) - (1/(273.15 + df['dew_point']))))) - 10)).round()"
   ]
  },
  {
   "cell_type": "code",
   "execution_count": 10,
   "id": "d2d1f94f",
   "metadata": {},
   "outputs": [],
   "source": [
    "# I am using the fillna function and enter the formula above to calculate those missing values.\n",
    "df2['humidex'].fillna(humidex, inplace=True)"
   ]
  },
  {
   "cell_type": "code",
   "execution_count": 11,
   "id": "eff41705",
   "metadata": {},
   "outputs": [
    {
     "data": {
      "text/plain": [
       "pressure_station           0\n",
       "pressure_sea               0\n",
       "wind_dir                   0\n",
       "wind_speed                 0\n",
       "wind_gust              79776\n",
       "relative_humidity          0\n",
       "dew_point                  0\n",
       "temperature                0\n",
       "windchill                  6\n",
       "humidex                    0\n",
       "visibility                42\n",
       "health_index             902\n",
       "cloud_okta              3055\n",
       "max_air_temp_pst1hr      236\n",
       "min_air_temp_pst1hr      236\n",
       "dtype: int64"
      ]
     },
     "execution_count": 11,
     "metadata": {},
     "output_type": "execute_result"
    }
   ],
   "source": [
    "# This is a double check to make sure the missing values were replaced.\n",
    "df2.isna().sum()"
   ]
  },
  {
   "cell_type": "code",
   "execution_count": 12,
   "id": "dfa70b76",
   "metadata": {},
   "outputs": [],
   "source": [
    "# The missing values for humidex were randomly placed along the data, I will download it here to review for accuracy.\n",
    "df2.to_csv('data/humidex_test.csv', index=True)"
   ]
  },
  {
   "cell_type": "markdown",
   "id": "723307ef",
   "metadata": {},
   "source": [
    "Upon review of the humidex_test.csv in Excel I was able to confirm the humidex is being calculated correctly for the previously empty values. Also, the values are rounding up or down accordingly."
   ]
  },
  {
   "cell_type": "code",
   "execution_count": 13,
   "id": "edc47c24",
   "metadata": {},
   "outputs": [
    {
     "name": "stdout",
     "output_type": "stream",
     "text": [
      "NA Values for wind_gust: 79776\n",
      "Values for wind_gust: 7872\n",
      "Percentage of wind_gust data available: 9.0\n"
     ]
    }
   ],
   "source": [
    "wind_gust_percent = (df2['wind_gust'].value_counts().sum()/df2['wind_gust'].shape[0]*100).round()\n",
    "print(f\"NA Values for wind_gust: {df2['wind_gust'].isna().sum()}\")\n",
    "print(f\"Values for wind_gust: {df2['wind_gust'].value_counts().sum()}\")\n",
    "print(f\"Percentage of wind_gust data available: {wind_gust_percent}\")"
   ]
  },
  {
   "cell_type": "markdown",
   "id": "fb1e2676",
   "metadata": {},
   "source": [
    "Despite the low percentage of data available, wind_gust may still be a valuable variable. I will keep it for now and explore it further. I will enter 0 for the empty values to indicate no wind_gust was present during those observations."
   ]
  },
  {
   "cell_type": "code",
   "execution_count": 14,
   "id": "df7d714d",
   "metadata": {},
   "outputs": [],
   "source": [
    "df2['wind_gust'].fillna(0, inplace=True)"
   ]
  },
  {
   "cell_type": "code",
   "execution_count": 15,
   "id": "fce20c2a",
   "metadata": {},
   "outputs": [
    {
     "data": {
      "text/plain": [
       "pressure_station          0\n",
       "pressure_sea              0\n",
       "wind_dir                  0\n",
       "wind_speed                0\n",
       "wind_gust                 0\n",
       "relative_humidity         0\n",
       "dew_point                 0\n",
       "temperature               0\n",
       "windchill                 6\n",
       "humidex                   0\n",
       "visibility               42\n",
       "health_index            902\n",
       "cloud_okta             3055\n",
       "max_air_temp_pst1hr     236\n",
       "min_air_temp_pst1hr     236\n",
       "dtype: int64"
      ]
     },
     "execution_count": 15,
     "metadata": {},
     "output_type": "execute_result"
    }
   ],
   "source": [
    "df2.isna().sum()"
   ]
  },
  {
   "cell_type": "code",
   "execution_count": 16,
   "id": "7affef1c",
   "metadata": {},
   "outputs": [
    {
     "data": {
      "image/png": "[encoded data removed]",
      "text/plain": [
       "<Figure size 1500x200 with 1 Axes>"
      ]
     },
     "metadata": {},
     "output_type": "display_data"
    }
   ],
   "source": [
    "plt.figure(figsize=(15, 2))\n",
    "cloud_okta_df = df2[['cloud_okta']]\n",
    "ax = sns.heatmap(cloud_okta_df.isna().T, cmap=\"tab10\", cbar=False)\n",
    "ax.set(xticklabels=[])\n",
    "plt.show()"
   ]
  },
  {
   "cell_type": "markdown",
   "id": "f3cc3152",
   "metadata": {},
   "source": [
    "The distribution of NA values shows a large amount of missing values at the beginning of the data set. Upon review of the data in Excel, I was able to ascertain that the first 2407 values are missing. This likely due to a change in the measurement type for cloud cover. The data used to use a different method to measure cloud cover before June 2013."
   ]
  },
  {
   "cell_type": "code",
   "execution_count": 17,
   "id": "1d306cd7",
   "metadata": {},
   "outputs": [],
   "source": [
    "# Entered mean cloud_okta for the first 2407 rows, will fill the rest of the NA values later through interpolation.\n",
    "df2['cloud_okta'].fillna(df2['cloud_okta'].mean, limit = 2407, inplace= True)"
   ]
  },
  {
   "cell_type": "code",
   "execution_count": 18,
   "id": "b482b046",
   "metadata": {},
   "outputs": [
    {
     "data": {
      "text/plain": [
       "pressure_station         0\n",
       "pressure_sea             0\n",
       "wind_dir                 0\n",
       "wind_speed               0\n",
       "wind_gust                0\n",
       "relative_humidity        0\n",
       "dew_point                0\n",
       "temperature              0\n",
       "windchill                6\n",
       "humidex                  0\n",
       "visibility              42\n",
       "health_index           902\n",
       "cloud_okta             648\n",
       "max_air_temp_pst1hr    236\n",
       "min_air_temp_pst1hr    236\n",
       "dtype: int64"
      ]
     },
     "execution_count": 18,
     "metadata": {},
     "output_type": "execute_result"
    }
   ],
   "source": [
    "df2.isna().sum()"
   ]
  },
  {
   "cell_type": "code",
   "execution_count": null,
   "id": "0722d4a6",
   "metadata": {},
   "outputs": [],
   "source": []
  }
 ],
 "metadata": {
  "kernelspec": {
   "display_name": "Python 3 (ipykernel)",
   "language": "python",
   "name": "python3"
  },
  "language_info": {
   "codemirror_mode": {
    "name": "ipython",
    "version": 3
   },
   "file_extension": ".py",
   "mimetype": "text/x-python",
   "name": "python",
   "nbconvert_exporter": "python",
   "pygments_lexer": "ipython3",
   "version": "3.11.3"
  }
 },
 "nbformat": 4,
 "nbformat_minor": 5
}
