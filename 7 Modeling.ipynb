{
  "cells": [
    {
      "cell_type": "markdown",
      "id": "d4586313",
      "metadata": {
        "id": "d4586313"
      },
      "source": [
        "Beginning of modeling portion of the project."
      ]
    },
    {
      "cell_type": "code",
      "execution_count": 1,
      "id": "6160e402",
      "metadata": {
        "id": "6160e402"
      },
      "outputs": [],
      "source": [
        "import numpy as np\n",
        "import pandas as pd\n",
        "import calendar\n",
        "\n",
        "import statsmodels.api as sm\n",
        "from sklearn.preprocessing import StandardScaler\n",
        "from sklearn.metrics import mean_absolute_error, mean_squared_error, r2_score\n",
        "from prophet import Prophet\n",
        "import matplotlib.pyplot as plt"
      ]
    },
    {
      "cell_type": "code",
      "source": [
        "from google.colab import files\n",
        "uploaded = files.upload()"
      ],
      "metadata": {
        "colab": {
          "base_uri": "https://localhost:8080/",
          "height": 73
        },
        "id": "EJQe__3WFAl6",
        "outputId": "7113dc69-66cf-4be5-cc65-aa30caebe0ed"
      },
      "id": "EJQe__3WFAl6",
      "execution_count": 2,
      "outputs": [
        {
          "output_type": "display_data",
          "data": {
            "text/plain": [
              "<IPython.core.display.HTML object>"
            ],
            "text/html": [
              "\n",
              "     <input type=\"file\" id=\"files-d263b90a-2fb1-423c-a0b6-4c428b72ea1b\" name=\"files[]\" multiple disabled\n",
              "        style=\"border:none\" />\n",
              "     <output id=\"result-d263b90a-2fb1-423c-a0b6-4c428b72ea1b\">\n",
              "      Upload widget is only available when the cell has been executed in the\n",
              "      current browser session. Please rerun this cell to enable.\n",
              "      </output>\n",
              "      <script>// Copyright 2017 Google LLC\n",
              "//\n",
              "// Licensed under the Apache License, Version 2.0 (the \"License\");\n",
              "// you may not use this file except in compliance with the License.\n",
              "// You may obtain a copy of the License at\n",
              "//\n",
              "//      http://www.apache.org/licenses/LICENSE-2.0\n",
              "//\n",
              "// Unless required by applicable law or agreed to in writing, software\n",
              "// distributed under the License is distributed on an \"AS IS\" BASIS,\n",
              "// WITHOUT WARRANTIES OR CONDITIONS OF ANY KIND, either express or implied.\n",
              "// See the License for the specific language governing permissions and\n",
              "// limitations under the License.\n",
              "\n",
              "/**\n",
              " * @fileoverview Helpers for google.colab Python module.\n",
              " */\n",
              "(function(scope) {\n",
              "function span(text, styleAttributes = {}) {\n",
              "  const element = document.createElement('span');\n",
              "  element.textContent = text;\n",
              "  for (const key of Object.keys(styleAttributes)) {\n",
              "    element.style[key] = styleAttributes[key];\n",
              "  }\n",
              "  return element;\n",
              "}\n",
              "\n",
              "// Max number of bytes which will be uploaded at a time.\n",
              "const MAX_PAYLOAD_SIZE = 100 * 1024;\n",
              "\n",
              "function _uploadFiles(inputId, outputId) {\n",
              "  const steps = uploadFilesStep(inputId, outputId);\n",
              "  const outputElement = document.getElementById(outputId);\n",
              "  // Cache steps on the outputElement to make it available for the next call\n",
              "  // to uploadFilesContinue from Python.\n",
              "  outputElement.steps = steps;\n",
              "\n",
              "  return _uploadFilesContinue(outputId);\n",
              "}\n",
              "\n",
              "// This is roughly an async generator (not supported in the browser yet),\n",
              "// where there are multiple asynchronous steps and the Python side is going\n",
              "// to poll for completion of each step.\n",
              "// This uses a Promise to block the python side on completion of each step,\n",
              "// then passes the result of the previous step as the input to the next step.\n",
              "function _uploadFilesContinue(outputId) {\n",
              "  const outputElement = document.getElementById(outputId);\n",
              "  const steps = outputElement.steps;\n",
              "\n",
              "  const next = steps.next(outputElement.lastPromiseValue);\n",
              "  return Promise.resolve(next.value.promise).then((value) => {\n",
              "    // Cache the last promise value to make it available to the next\n",
              "    // step of the generator.\n",
              "    outputElement.lastPromiseValue = value;\n",
              "    return next.value.response;\n",
              "  });\n",
              "}\n",
              "\n",
              "/**\n",
              " * Generator function which is called between each async step of the upload\n",
              " * process.\n",
              " * @param {string} inputId Element ID of the input file picker element.\n",
              " * @param {string} outputId Element ID of the output display.\n",
              " * @return {!Iterable<!Object>} Iterable of next steps.\n",
              " */\n",
              "function* uploadFilesStep(inputId, outputId) {\n",
              "  const inputElement = document.getElementById(inputId);\n",
              "  inputElement.disabled = false;\n",
              "\n",
              "  const outputElement = document.getElementById(outputId);\n",
              "  outputElement.innerHTML = '';\n",
              "\n",
              "  const pickedPromise = new Promise((resolve) => {\n",
              "    inputElement.addEventListener('change', (e) => {\n",
              "      resolve(e.target.files);\n",
              "    });\n",
              "  });\n",
              "\n",
              "  const cancel = document.createElement('button');\n",
              "  inputElement.parentElement.appendChild(cancel);\n",
              "  cancel.textContent = 'Cancel upload';\n",
              "  const cancelPromise = new Promise((resolve) => {\n",
              "    cancel.onclick = () => {\n",
              "      resolve(null);\n",
              "    };\n",
              "  });\n",
              "\n",
              "  // Wait for the user to pick the files.\n",
              "  const files = yield {\n",
              "    promise: Promise.race([pickedPromise, cancelPromise]),\n",
              "    response: {\n",
              "      action: 'starting',\n",
              "    }\n",
              "  };\n",
              "\n",
              "  cancel.remove();\n",
              "\n",
              "  // Disable the input element since further picks are not allowed.\n",
              "  inputElement.disabled = true;\n",
              "\n",
              "  if (!files) {\n",
              "    return {\n",
              "      response: {\n",
              "        action: 'complete',\n",
              "      }\n",
              "    };\n",
              "  }\n",
              "\n",
              "  for (const file of files) {\n",
              "    const li = document.createElement('li');\n",
              "    li.append(span(file.name, {fontWeight: 'bold'}));\n",
              "    li.append(span(\n",
              "        `(${file.type || 'n/a'}) - ${file.size} bytes, ` +\n",
              "        `last modified: ${\n",
              "            file.lastModifiedDate ? file.lastModifiedDate.toLocaleDateString() :\n",
              "                                    'n/a'} - `));\n",
              "    const percent = span('0% done');\n",
              "    li.appendChild(percent);\n",
              "\n",
              "    outputElement.appendChild(li);\n",
              "\n",
              "    const fileDataPromise = new Promise((resolve) => {\n",
              "      const reader = new FileReader();\n",
              "      reader.onload = (e) => {\n",
              "        resolve(e.target.result);\n",
              "      };\n",
              "      reader.readAsArrayBuffer(file);\n",
              "    });\n",
              "    // Wait for the data to be ready.\n",
              "    let fileData = yield {\n",
              "      promise: fileDataPromise,\n",
              "      response: {\n",
              "        action: 'continue',\n",
              "      }\n",
              "    };\n",
              "\n",
              "    // Use a chunked sending to avoid message size limits. See b/62115660.\n",
              "    let position = 0;\n",
              "    do {\n",
              "      const length = Math.min(fileData.byteLength - position, MAX_PAYLOAD_SIZE);\n",
              "      const chunk = new Uint8Array(fileData, position, length);\n",
              "      position += length;\n",
              "\n",
              "      const base64 = btoa(String.fromCharCode.apply(null, chunk));\n",
              "      yield {\n",
              "        response: {\n",
              "          action: 'append',\n",
              "          file: file.name,\n",
              "          data: base64,\n",
              "        },\n",
              "      };\n",
              "\n",
              "      let percentDone = fileData.byteLength === 0 ?\n",
              "          100 :\n",
              "          Math.round((position / fileData.byteLength) * 100);\n",
              "      percent.textContent = `${percentDone}% done`;\n",
              "\n",
              "    } while (position < fileData.byteLength);\n",
              "  }\n",
              "\n",
              "  // All done.\n",
              "  yield {\n",
              "    response: {\n",
              "      action: 'complete',\n",
              "    }\n",
              "  };\n",
              "}\n",
              "\n",
              "scope.google = scope.google || {};\n",
              "scope.google.colab = scope.google.colab || {};\n",
              "scope.google.colab._files = {\n",
              "  _uploadFiles,\n",
              "  _uploadFilesContinue,\n",
              "};\n",
              "})(self);\n",
              "</script> "
            ]
          },
          "metadata": {}
        },
        {
          "output_type": "stream",
          "name": "stdout",
          "text": [
            "Saving weatherstats_vancouver_hourly_clean.csv to weatherstats_vancouver_hourly_clean (1).csv\n"
          ]
        }
      ]
    },
    {
      "cell_type": "code",
      "source": [
        "print(uploaded.keys())"
      ],
      "metadata": {
        "colab": {
          "base_uri": "https://localhost:8080/"
        },
        "id": "AGysX-OANTYF",
        "outputId": "d2b07a4c-c5d8-4aaf-e009-0bde6d237146"
      },
      "id": "AGysX-OANTYF",
      "execution_count": 6,
      "outputs": [
        {
          "output_type": "stream",
          "name": "stdout",
          "text": [
            "dict_keys(['weatherstats_vancouver_hourly_clean (1).csv'])\n"
          ]
        }
      ]
    },
    {
      "cell_type": "code",
      "source": [
        "import io\n",
        "# Make sure to use the exact file name shown in uploaded.keys()\n",
        "df = pd.read_csv(io.BytesIO(uploaded['weatherstats_vancouver_hourly_clean (1).csv']))\n",
        "df.head()"
      ],
      "metadata": {
        "colab": {
          "base_uri": "https://localhost:8080/",
          "height": 313
        },
        "id": "h4paoi0vFJjn",
        "outputId": "30e9a54c-d669-464a-ea61-5c865af73183"
      },
      "id": "h4paoi0vFJjn",
      "execution_count": 7,
      "outputs": [
        {
          "output_type": "execute_result",
          "data": {
            "text/plain": [
              "       date_time_local  pressure_station  pressure_sea wind_dir  wind_speed  \\\n",
              "0  2013-07-01 00:00:00            101.18        101.16      SSE           7   \n",
              "1  2013-07-01 01:00:00            101.22        101.21       SE           6   \n",
              "2  2013-07-01 02:00:00            101.26        101.24        E          11   \n",
              "3  2013-07-01 03:00:00            101.26        101.25        E           4   \n",
              "4  2013-07-01 04:00:00            101.30        101.28      NNW           5   \n",
              "\n",
              "   wind_gust  relative_humidity  dew_point  temperature  windchill  humidex  \\\n",
              "0        0.0                 91       18.2         19.7        0.0      0.0   \n",
              "1        0.0                 89       17.8         19.6        0.0      0.0   \n",
              "2        0.0                 88       16.7         18.7        0.0      0.0   \n",
              "3        0.0                 84       16.5         19.2        0.0      0.0   \n",
              "4        0.0                 87       15.7         17.9        0.0      0.0   \n",
              "\n",
              "   visibility  health_index  cloud_okta  max_air_temp_pst1hr  \\\n",
              "0     32200.0           2.9         5.0                 19.4   \n",
              "1     32200.0           3.0         5.0                 20.1   \n",
              "2     32200.0           3.0         5.0                 19.8   \n",
              "3     32200.0           2.7         5.0                 18.5   \n",
              "4     32200.0           2.6         5.0                 18.8   \n",
              "\n",
              "   min_air_temp_pst1hr  \n",
              "0                 18.5  \n",
              "1                 18.7  \n",
              "2                 18.0  \n",
              "3                 17.5  \n",
              "4                 17.3  "
            ],
            "text/html": [
              "\n",
              "  <div id=\"df-3d35b669-c1d2-4421-9763-d74c4e95d222\" class=\"colab-df-container\">\n",
              "    <div>\n",
              "<style scoped>\n",
              "    .dataframe tbody tr th:only-of-type {\n",
              "        vertical-align: middle;\n",
              "    }\n",
              "\n",
              "    .dataframe tbody tr th {\n",
              "        vertical-align: top;\n",
              "    }\n",
              "\n",
              "    .dataframe thead th {\n",
              "        text-align: right;\n",
              "    }\n",
              "</style>\n",
              "<table border=\"1\" class=\"dataframe\">\n",
              "  <thead>\n",
              "    <tr style=\"text-align: right;\">\n",
              "      <th></th>\n",
              "      <th>date_time_local</th>\n",
              "      <th>pressure_station</th>\n",
              "      <th>pressure_sea</th>\n",
              "      <th>wind_dir</th>\n",
              "      <th>wind_speed</th>\n",
              "      <th>wind_gust</th>\n",
              "      <th>relative_humidity</th>\n",
              "      <th>dew_point</th>\n",
              "      <th>temperature</th>\n",
              "      <th>windchill</th>\n",
              "      <th>humidex</th>\n",
              "      <th>visibility</th>\n",
              "      <th>health_index</th>\n",
              "      <th>cloud_okta</th>\n",
              "      <th>max_air_temp_pst1hr</th>\n",
              "      <th>min_air_temp_pst1hr</th>\n",
              "    </tr>\n",
              "  </thead>\n",
              "  <tbody>\n",
              "    <tr>\n",
              "      <th>0</th>\n",
              "      <td>2013-07-01 00:00:00</td>\n",
              "      <td>101.18</td>\n",
              "      <td>101.16</td>\n",
              "      <td>SSE</td>\n",
              "      <td>7</td>\n",
              "      <td>0.0</td>\n",
              "      <td>91</td>\n",
              "      <td>18.2</td>\n",
              "      <td>19.7</td>\n",
              "      <td>0.0</td>\n",
              "      <td>0.0</td>\n",
              "      <td>32200.0</td>\n",
              "      <td>2.9</td>\n",
              "      <td>5.0</td>\n",
              "      <td>19.4</td>\n",
              "      <td>18.5</td>\n",
              "    </tr>\n",
              "    <tr>\n",
              "      <th>1</th>\n",
              "      <td>2013-07-01 01:00:00</td>\n",
              "      <td>101.22</td>\n",
              "      <td>101.21</td>\n",
              "      <td>SE</td>\n",
              "      <td>6</td>\n",
              "      <td>0.0</td>\n",
              "      <td>89</td>\n",
              "      <td>17.8</td>\n",
              "      <td>19.6</td>\n",
              "      <td>0.0</td>\n",
              "      <td>0.0</td>\n",
              "      <td>32200.0</td>\n",
              "      <td>3.0</td>\n",
              "      <td>5.0</td>\n",
              "      <td>20.1</td>\n",
              "      <td>18.7</td>\n",
              "    </tr>\n",
              "    <tr>\n",
              "      <th>2</th>\n",
              "      <td>2013-07-01 02:00:00</td>\n",
              "      <td>101.26</td>\n",
              "      <td>101.24</td>\n",
              "      <td>E</td>\n",
              "      <td>11</td>\n",
              "      <td>0.0</td>\n",
              "      <td>88</td>\n",
              "      <td>16.7</td>\n",
              "      <td>18.7</td>\n",
              "      <td>0.0</td>\n",
              "      <td>0.0</td>\n",
              "      <td>32200.0</td>\n",
              "      <td>3.0</td>\n",
              "      <td>5.0</td>\n",
              "      <td>19.8</td>\n",
              "      <td>18.0</td>\n",
              "    </tr>\n",
              "    <tr>\n",
              "      <th>3</th>\n",
              "      <td>2013-07-01 03:00:00</td>\n",
              "      <td>101.26</td>\n",
              "      <td>101.25</td>\n",
              "      <td>E</td>\n",
              "      <td>4</td>\n",
              "      <td>0.0</td>\n",
              "      <td>84</td>\n",
              "      <td>16.5</td>\n",
              "      <td>19.2</td>\n",
              "      <td>0.0</td>\n",
              "      <td>0.0</td>\n",
              "      <td>32200.0</td>\n",
              "      <td>2.7</td>\n",
              "      <td>5.0</td>\n",
              "      <td>18.5</td>\n",
              "      <td>17.5</td>\n",
              "    </tr>\n",
              "    <tr>\n",
              "      <th>4</th>\n",
              "      <td>2013-07-01 04:00:00</td>\n",
              "      <td>101.30</td>\n",
              "      <td>101.28</td>\n",
              "      <td>NNW</td>\n",
              "      <td>5</td>\n",
              "      <td>0.0</td>\n",
              "      <td>87</td>\n",
              "      <td>15.7</td>\n",
              "      <td>17.9</td>\n",
              "      <td>0.0</td>\n",
              "      <td>0.0</td>\n",
              "      <td>32200.0</td>\n",
              "      <td>2.6</td>\n",
              "      <td>5.0</td>\n",
              "      <td>18.8</td>\n",
              "      <td>17.3</td>\n",
              "    </tr>\n",
              "  </tbody>\n",
              "</table>\n",
              "</div>\n",
              "    <div class=\"colab-df-buttons\">\n",
              "\n",
              "  <div class=\"colab-df-container\">\n",
              "    <button class=\"colab-df-convert\" onclick=\"convertToInteractive('df-3d35b669-c1d2-4421-9763-d74c4e95d222')\"\n",
              "            title=\"Convert this dataframe to an interactive table.\"\n",
              "            style=\"display:none;\">\n",
              "\n",
              "  <svg xmlns=\"http://www.w3.org/2000/svg\" height=\"24px\" viewBox=\"0 -960 960 960\">\n",
              "    <path d=\"M120-120v-720h720v720H120Zm60-500h600v-160H180v160Zm220 220h160v-160H400v160Zm0 220h160v-160H400v160ZM180-400h160v-160H180v160Zm440 0h160v-160H620v160ZM180-180h160v-160H180v160Zm440 0h160v-160H620v160Z\"/>\n",
              "  </svg>\n",
              "    </button>\n",
              "\n",
              "  <style>\n",
              "    .colab-df-container {\n",
              "      display:flex;\n",
              "      gap: 12px;\n",
              "    }\n",
              "\n",
              "    .colab-df-convert {\n",
              "      background-color: #E8F0FE;\n",
              "      border: none;\n",
              "      border-radius: 50%;\n",
              "      cursor: pointer;\n",
              "      display: none;\n",
              "      fill: #1967D2;\n",
              "      height: 32px;\n",
              "      padding: 0 0 0 0;\n",
              "      width: 32px;\n",
              "    }\n",
              "\n",
              "    .colab-df-convert:hover {\n",
              "      background-color: #E2EBFA;\n",
              "      box-shadow: 0px 1px 2px rgba(60, 64, 67, 0.3), 0px 1px 3px 1px rgba(60, 64, 67, 0.15);\n",
              "      fill: #174EA6;\n",
              "    }\n",
              "\n",
              "    .colab-df-buttons div {\n",
              "      margin-bottom: 4px;\n",
              "    }\n",
              "\n",
              "    [theme=dark] .colab-df-convert {\n",
              "      background-color: #3B4455;\n",
              "      fill: #D2E3FC;\n",
              "    }\n",
              "\n",
              "    [theme=dark] .colab-df-convert:hover {\n",
              "      background-color: #434B5C;\n",
              "      box-shadow: 0px 1px 3px 1px rgba(0, 0, 0, 0.15);\n",
              "      filter: drop-shadow(0px 1px 2px rgba(0, 0, 0, 0.3));\n",
              "      fill: #FFFFFF;\n",
              "    }\n",
              "  </style>\n",
              "\n",
              "    <script>\n",
              "      const buttonEl =\n",
              "        document.querySelector('#df-3d35b669-c1d2-4421-9763-d74c4e95d222 button.colab-df-convert');\n",
              "      buttonEl.style.display =\n",
              "        google.colab.kernel.accessAllowed ? 'block' : 'none';\n",
              "\n",
              "      async function convertToInteractive(key) {\n",
              "        const element = document.querySelector('#df-3d35b669-c1d2-4421-9763-d74c4e95d222');\n",
              "        const dataTable =\n",
              "          await google.colab.kernel.invokeFunction('convertToInteractive',\n",
              "                                                    [key], {});\n",
              "        if (!dataTable) return;\n",
              "\n",
              "        const docLinkHtml = 'Like what you see? Visit the ' +\n",
              "          '<a target=\"_blank\" href=https://colab.research.google.com/notebooks/data_table.ipynb>data table notebook</a>'\n",
              "          + ' to learn more about interactive tables.';\n",
              "        element.innerHTML = '';\n",
              "        dataTable['output_type'] = 'display_data';\n",
              "        await google.colab.output.renderOutput(dataTable, element);\n",
              "        const docLink = document.createElement('div');\n",
              "        docLink.innerHTML = docLinkHtml;\n",
              "        element.appendChild(docLink);\n",
              "      }\n",
              "    </script>\n",
              "  </div>\n",
              "\n",
              "\n",
              "<div id=\"df-52c893da-2a74-43da-a4f5-376d30f82668\">\n",
              "  <button class=\"colab-df-quickchart\" onclick=\"quickchart('df-52c893da-2a74-43da-a4f5-376d30f82668')\"\n",
              "            title=\"Suggest charts.\"\n",
              "            style=\"display:none;\">\n",
              "\n",
              "<svg xmlns=\"http://www.w3.org/2000/svg\" height=\"24px\"viewBox=\"0 0 24 24\"\n",
              "     width=\"24px\">\n",
              "    <g>\n",
              "        <path d=\"M19 3H5c-1.1 0-2 .9-2 2v14c0 1.1.9 2 2 2h14c1.1 0 2-.9 2-2V5c0-1.1-.9-2-2-2zM9 17H7v-7h2v7zm4 0h-2V7h2v10zm4 0h-2v-4h2v4z\"/>\n",
              "    </g>\n",
              "</svg>\n",
              "  </button>\n",
              "\n",
              "<style>\n",
              "  .colab-df-quickchart {\n",
              "    background-color: #E8F0FE;\n",
              "    border: none;\n",
              "    border-radius: 50%;\n",
              "    cursor: pointer;\n",
              "    display: none;\n",
              "    fill: #1967D2;\n",
              "    height: 32px;\n",
              "    padding: 0 0 0 0;\n",
              "    width: 32px;\n",
              "  }\n",
              "\n",
              "  .colab-df-quickchart:hover {\n",
              "    background-color: #E2EBFA;\n",
              "    box-shadow: 0px 1px 2px rgba(60, 64, 67, 0.3), 0px 1px 3px 1px rgba(60, 64, 67, 0.15);\n",
              "    fill: #174EA6;\n",
              "  }\n",
              "\n",
              "  [theme=dark] .colab-df-quickchart {\n",
              "    background-color: #3B4455;\n",
              "    fill: #D2E3FC;\n",
              "  }\n",
              "\n",
              "  [theme=dark] .colab-df-quickchart:hover {\n",
              "    background-color: #434B5C;\n",
              "    box-shadow: 0px 1px 3px 1px rgba(0, 0, 0, 0.15);\n",
              "    filter: drop-shadow(0px 1px 2px rgba(0, 0, 0, 0.3));\n",
              "    fill: #FFFFFF;\n",
              "  }\n",
              "</style>\n",
              "\n",
              "  <script>\n",
              "    async function quickchart(key) {\n",
              "      const charts = await google.colab.kernel.invokeFunction(\n",
              "          'suggestCharts', [key], {});\n",
              "    }\n",
              "    (() => {\n",
              "      let quickchartButtonEl =\n",
              "        document.querySelector('#df-52c893da-2a74-43da-a4f5-376d30f82668 button');\n",
              "      quickchartButtonEl.style.display =\n",
              "        google.colab.kernel.accessAllowed ? 'block' : 'none';\n",
              "    })();\n",
              "  </script>\n",
              "</div>\n",
              "    </div>\n",
              "  </div>\n"
            ]
          },
          "metadata": {},
          "execution_count": 7
        }
      ]
    },
    {
      "cell_type": "code",
      "execution_count": 8,
      "id": "fe652f42",
      "metadata": {
        "id": "fe652f42"
      },
      "outputs": [],
      "source": [
        "# df = pd.read_csv('data/weatherstats_vancouver_hourly_clean.csv')\n",
        "# df.head()"
      ]
    },
    {
      "cell_type": "code",
      "execution_count": 9,
      "id": "53abcb01",
      "metadata": {
        "colab": {
          "base_uri": "https://localhost:8080/",
          "height": 344
        },
        "id": "53abcb01",
        "outputId": "380720df-eb6a-4fa1-c784-b4d35e50f6c9"
      },
      "outputs": [
        {
          "output_type": "execute_result",
          "data": {
            "text/plain": [
              "                     pressure_station  pressure_sea wind_dir  wind_speed  \\\n",
              "date_time_local                                                            \n",
              "2013-07-01 00:00:00            101.18        101.16      SSE           7   \n",
              "2013-07-01 01:00:00            101.22        101.21       SE           6   \n",
              "2013-07-01 02:00:00            101.26        101.24        E          11   \n",
              "2013-07-01 03:00:00            101.26        101.25        E           4   \n",
              "2013-07-01 04:00:00            101.30        101.28      NNW           5   \n",
              "\n",
              "                     wind_gust  relative_humidity  dew_point  temperature  \\\n",
              "date_time_local                                                             \n",
              "2013-07-01 00:00:00        0.0                 91       18.2         19.7   \n",
              "2013-07-01 01:00:00        0.0                 89       17.8         19.6   \n",
              "2013-07-01 02:00:00        0.0                 88       16.7         18.7   \n",
              "2013-07-01 03:00:00        0.0                 84       16.5         19.2   \n",
              "2013-07-01 04:00:00        0.0                 87       15.7         17.9   \n",
              "\n",
              "                     windchill  humidex  visibility  health_index  cloud_okta  \\\n",
              "date_time_local                                                                 \n",
              "2013-07-01 00:00:00        0.0      0.0     32200.0           2.9         5.0   \n",
              "2013-07-01 01:00:00        0.0      0.0     32200.0           3.0         5.0   \n",
              "2013-07-01 02:00:00        0.0      0.0     32200.0           3.0         5.0   \n",
              "2013-07-01 03:00:00        0.0      0.0     32200.0           2.7         5.0   \n",
              "2013-07-01 04:00:00        0.0      0.0     32200.0           2.6         5.0   \n",
              "\n",
              "                     max_air_temp_pst1hr  min_air_temp_pst1hr  \n",
              "date_time_local                                                \n",
              "2013-07-01 00:00:00                 19.4                 18.5  \n",
              "2013-07-01 01:00:00                 20.1                 18.7  \n",
              "2013-07-01 02:00:00                 19.8                 18.0  \n",
              "2013-07-01 03:00:00                 18.5                 17.5  \n",
              "2013-07-01 04:00:00                 18.8                 17.3  "
            ],
            "text/html": [
              "\n",
              "  <div id=\"df-3f3023cb-a787-4c38-b82d-2da8d2f48ce9\" class=\"colab-df-container\">\n",
              "    <div>\n",
              "<style scoped>\n",
              "    .dataframe tbody tr th:only-of-type {\n",
              "        vertical-align: middle;\n",
              "    }\n",
              "\n",
              "    .dataframe tbody tr th {\n",
              "        vertical-align: top;\n",
              "    }\n",
              "\n",
              "    .dataframe thead th {\n",
              "        text-align: right;\n",
              "    }\n",
              "</style>\n",
              "<table border=\"1\" class=\"dataframe\">\n",
              "  <thead>\n",
              "    <tr style=\"text-align: right;\">\n",
              "      <th></th>\n",
              "      <th>pressure_station</th>\n",
              "      <th>pressure_sea</th>\n",
              "      <th>wind_dir</th>\n",
              "      <th>wind_speed</th>\n",
              "      <th>wind_gust</th>\n",
              "      <th>relative_humidity</th>\n",
              "      <th>dew_point</th>\n",
              "      <th>temperature</th>\n",
              "      <th>windchill</th>\n",
              "      <th>humidex</th>\n",
              "      <th>visibility</th>\n",
              "      <th>health_index</th>\n",
              "      <th>cloud_okta</th>\n",
              "      <th>max_air_temp_pst1hr</th>\n",
              "      <th>min_air_temp_pst1hr</th>\n",
              "    </tr>\n",
              "    <tr>\n",
              "      <th>date_time_local</th>\n",
              "      <th></th>\n",
              "      <th></th>\n",
              "      <th></th>\n",
              "      <th></th>\n",
              "      <th></th>\n",
              "      <th></th>\n",
              "      <th></th>\n",
              "      <th></th>\n",
              "      <th></th>\n",
              "      <th></th>\n",
              "      <th></th>\n",
              "      <th></th>\n",
              "      <th></th>\n",
              "      <th></th>\n",
              "      <th></th>\n",
              "    </tr>\n",
              "  </thead>\n",
              "  <tbody>\n",
              "    <tr>\n",
              "      <th>2013-07-01 00:00:00</th>\n",
              "      <td>101.18</td>\n",
              "      <td>101.16</td>\n",
              "      <td>SSE</td>\n",
              "      <td>7</td>\n",
              "      <td>0.0</td>\n",
              "      <td>91</td>\n",
              "      <td>18.2</td>\n",
              "      <td>19.7</td>\n",
              "      <td>0.0</td>\n",
              "      <td>0.0</td>\n",
              "      <td>32200.0</td>\n",
              "      <td>2.9</td>\n",
              "      <td>5.0</td>\n",
              "      <td>19.4</td>\n",
              "      <td>18.5</td>\n",
              "    </tr>\n",
              "    <tr>\n",
              "      <th>2013-07-01 01:00:00</th>\n",
              "      <td>101.22</td>\n",
              "      <td>101.21</td>\n",
              "      <td>SE</td>\n",
              "      <td>6</td>\n",
              "      <td>0.0</td>\n",
              "      <td>89</td>\n",
              "      <td>17.8</td>\n",
              "      <td>19.6</td>\n",
              "      <td>0.0</td>\n",
              "      <td>0.0</td>\n",
              "      <td>32200.0</td>\n",
              "      <td>3.0</td>\n",
              "      <td>5.0</td>\n",
              "      <td>20.1</td>\n",
              "      <td>18.7</td>\n",
              "    </tr>\n",
              "    <tr>\n",
              "      <th>2013-07-01 02:00:00</th>\n",
              "      <td>101.26</td>\n",
              "      <td>101.24</td>\n",
              "      <td>E</td>\n",
              "      <td>11</td>\n",
              "      <td>0.0</td>\n",
              "      <td>88</td>\n",
              "      <td>16.7</td>\n",
              "      <td>18.7</td>\n",
              "      <td>0.0</td>\n",
              "      <td>0.0</td>\n",
              "      <td>32200.0</td>\n",
              "      <td>3.0</td>\n",
              "      <td>5.0</td>\n",
              "      <td>19.8</td>\n",
              "      <td>18.0</td>\n",
              "    </tr>\n",
              "    <tr>\n",
              "      <th>2013-07-01 03:00:00</th>\n",
              "      <td>101.26</td>\n",
              "      <td>101.25</td>\n",
              "      <td>E</td>\n",
              "      <td>4</td>\n",
              "      <td>0.0</td>\n",
              "      <td>84</td>\n",
              "      <td>16.5</td>\n",
              "      <td>19.2</td>\n",
              "      <td>0.0</td>\n",
              "      <td>0.0</td>\n",
              "      <td>32200.0</td>\n",
              "      <td>2.7</td>\n",
              "      <td>5.0</td>\n",
              "      <td>18.5</td>\n",
              "      <td>17.5</td>\n",
              "    </tr>\n",
              "    <tr>\n",
              "      <th>2013-07-01 04:00:00</th>\n",
              "      <td>101.30</td>\n",
              "      <td>101.28</td>\n",
              "      <td>NNW</td>\n",
              "      <td>5</td>\n",
              "      <td>0.0</td>\n",
              "      <td>87</td>\n",
              "      <td>15.7</td>\n",
              "      <td>17.9</td>\n",
              "      <td>0.0</td>\n",
              "      <td>0.0</td>\n",
              "      <td>32200.0</td>\n",
              "      <td>2.6</td>\n",
              "      <td>5.0</td>\n",
              "      <td>18.8</td>\n",
              "      <td>17.3</td>\n",
              "    </tr>\n",
              "  </tbody>\n",
              "</table>\n",
              "</div>\n",
              "    <div class=\"colab-df-buttons\">\n",
              "\n",
              "  <div class=\"colab-df-container\">\n",
              "    <button class=\"colab-df-convert\" onclick=\"convertToInteractive('df-3f3023cb-a787-4c38-b82d-2da8d2f48ce9')\"\n",
              "            title=\"Convert this dataframe to an interactive table.\"\n",
              "            style=\"display:none;\">\n",
              "\n",
              "  <svg xmlns=\"http://www.w3.org/2000/svg\" height=\"24px\" viewBox=\"0 -960 960 960\">\n",
              "    <path d=\"M120-120v-720h720v720H120Zm60-500h600v-160H180v160Zm220 220h160v-160H400v160Zm0 220h160v-160H400v160ZM180-400h160v-160H180v160Zm440 0h160v-160H620v160ZM180-180h160v-160H180v160Zm440 0h160v-160H620v160Z\"/>\n",
              "  </svg>\n",
              "    </button>\n",
              "\n",
              "  <style>\n",
              "    .colab-df-container {\n",
              "      display:flex;\n",
              "      gap: 12px;\n",
              "    }\n",
              "\n",
              "    .colab-df-convert {\n",
              "      background-color: #E8F0FE;\n",
              "      border: none;\n",
              "      border-radius: 50%;\n",
              "      cursor: pointer;\n",
              "      display: none;\n",
              "      fill: #1967D2;\n",
              "      height: 32px;\n",
              "      padding: 0 0 0 0;\n",
              "      width: 32px;\n",
              "    }\n",
              "\n",
              "    .colab-df-convert:hover {\n",
              "      background-color: #E2EBFA;\n",
              "      box-shadow: 0px 1px 2px rgba(60, 64, 67, 0.3), 0px 1px 3px 1px rgba(60, 64, 67, 0.15);\n",
              "      fill: #174EA6;\n",
              "    }\n",
              "\n",
              "    .colab-df-buttons div {\n",
              "      margin-bottom: 4px;\n",
              "    }\n",
              "\n",
              "    [theme=dark] .colab-df-convert {\n",
              "      background-color: #3B4455;\n",
              "      fill: #D2E3FC;\n",
              "    }\n",
              "\n",
              "    [theme=dark] .colab-df-convert:hover {\n",
              "      background-color: #434B5C;\n",
              "      box-shadow: 0px 1px 3px 1px rgba(0, 0, 0, 0.15);\n",
              "      filter: drop-shadow(0px 1px 2px rgba(0, 0, 0, 0.3));\n",
              "      fill: #FFFFFF;\n",
              "    }\n",
              "  </style>\n",
              "\n",
              "    <script>\n",
              "      const buttonEl =\n",
              "        document.querySelector('#df-3f3023cb-a787-4c38-b82d-2da8d2f48ce9 button.colab-df-convert');\n",
              "      buttonEl.style.display =\n",
              "        google.colab.kernel.accessAllowed ? 'block' : 'none';\n",
              "\n",
              "      async function convertToInteractive(key) {\n",
              "        const element = document.querySelector('#df-3f3023cb-a787-4c38-b82d-2da8d2f48ce9');\n",
              "        const dataTable =\n",
              "          await google.colab.kernel.invokeFunction('convertToInteractive',\n",
              "                                                    [key], {});\n",
              "        if (!dataTable) return;\n",
              "\n",
              "        const docLinkHtml = 'Like what you see? Visit the ' +\n",
              "          '<a target=\"_blank\" href=https://colab.research.google.com/notebooks/data_table.ipynb>data table notebook</a>'\n",
              "          + ' to learn more about interactive tables.';\n",
              "        element.innerHTML = '';\n",
              "        dataTable['output_type'] = 'display_data';\n",
              "        await google.colab.output.renderOutput(dataTable, element);\n",
              "        const docLink = document.createElement('div');\n",
              "        docLink.innerHTML = docLinkHtml;\n",
              "        element.appendChild(docLink);\n",
              "      }\n",
              "    </script>\n",
              "  </div>\n",
              "\n",
              "\n",
              "<div id=\"df-672491bf-56b7-4d77-b794-bf530aa32cdd\">\n",
              "  <button class=\"colab-df-quickchart\" onclick=\"quickchart('df-672491bf-56b7-4d77-b794-bf530aa32cdd')\"\n",
              "            title=\"Suggest charts.\"\n",
              "            style=\"display:none;\">\n",
              "\n",
              "<svg xmlns=\"http://www.w3.org/2000/svg\" height=\"24px\"viewBox=\"0 0 24 24\"\n",
              "     width=\"24px\">\n",
              "    <g>\n",
              "        <path d=\"M19 3H5c-1.1 0-2 .9-2 2v14c0 1.1.9 2 2 2h14c1.1 0 2-.9 2-2V5c0-1.1-.9-2-2-2zM9 17H7v-7h2v7zm4 0h-2V7h2v10zm4 0h-2v-4h2v4z\"/>\n",
              "    </g>\n",
              "</svg>\n",
              "  </button>\n",
              "\n",
              "<style>\n",
              "  .colab-df-quickchart {\n",
              "    background-color: #E8F0FE;\n",
              "    border: none;\n",
              "    border-radius: 50%;\n",
              "    cursor: pointer;\n",
              "    display: none;\n",
              "    fill: #1967D2;\n",
              "    height: 32px;\n",
              "    padding: 0 0 0 0;\n",
              "    width: 32px;\n",
              "  }\n",
              "\n",
              "  .colab-df-quickchart:hover {\n",
              "    background-color: #E2EBFA;\n",
              "    box-shadow: 0px 1px 2px rgba(60, 64, 67, 0.3), 0px 1px 3px 1px rgba(60, 64, 67, 0.15);\n",
              "    fill: #174EA6;\n",
              "  }\n",
              "\n",
              "  [theme=dark] .colab-df-quickchart {\n",
              "    background-color: #3B4455;\n",
              "    fill: #D2E3FC;\n",
              "  }\n",
              "\n",
              "  [theme=dark] .colab-df-quickchart:hover {\n",
              "    background-color: #434B5C;\n",
              "    box-shadow: 0px 1px 3px 1px rgba(0, 0, 0, 0.15);\n",
              "    filter: drop-shadow(0px 1px 2px rgba(0, 0, 0, 0.3));\n",
              "    fill: #FFFFFF;\n",
              "  }\n",
              "</style>\n",
              "\n",
              "  <script>\n",
              "    async function quickchart(key) {\n",
              "      const charts = await google.colab.kernel.invokeFunction(\n",
              "          'suggestCharts', [key], {});\n",
              "    }\n",
              "    (() => {\n",
              "      let quickchartButtonEl =\n",
              "        document.querySelector('#df-672491bf-56b7-4d77-b794-bf530aa32cdd button');\n",
              "      quickchartButtonEl.style.display =\n",
              "        google.colab.kernel.accessAllowed ? 'block' : 'none';\n",
              "    })();\n",
              "  </script>\n",
              "</div>\n",
              "    </div>\n",
              "  </div>\n"
            ]
          },
          "metadata": {},
          "execution_count": 9
        }
      ],
      "source": [
        "df['date_time_local'] = pd.to_datetime(df['date_time_local'], utc=False)\n",
        "df = df.set_index('date_time_local')\n",
        "df.head()"
      ]
    },
    {
      "cell_type": "code",
      "execution_count": 10,
      "id": "d8130c4b",
      "metadata": {
        "colab": {
          "base_uri": "https://localhost:8080/"
        },
        "id": "d8130c4b",
        "outputId": "649958e5-a15f-49f6-9f64-ef67bc4cd100"
      },
      "outputs": [
        {
          "output_type": "stream",
          "name": "stdout",
          "text": [
            "<class 'pandas.core.frame.DataFrame'>\n",
            "DatetimeIndex: 87648 entries, 2013-07-01 00:00:00 to 2023-06-30 23:00:00\n",
            "Data columns (total 15 columns):\n",
            " #   Column               Non-Null Count  Dtype  \n",
            "---  ------               --------------  -----  \n",
            " 0   pressure_station     87648 non-null  float64\n",
            " 1   pressure_sea         87648 non-null  float64\n",
            " 2   wind_dir             87648 non-null  object \n",
            " 3   wind_speed           87648 non-null  int64  \n",
            " 4   wind_gust            87648 non-null  float64\n",
            " 5   relative_humidity    87648 non-null  int64  \n",
            " 6   dew_point            87648 non-null  float64\n",
            " 7   temperature          87648 non-null  float64\n",
            " 8   windchill            87648 non-null  float64\n",
            " 9   humidex              87648 non-null  float64\n",
            " 10  visibility           87648 non-null  float64\n",
            " 11  health_index         87648 non-null  float64\n",
            " 12  cloud_okta           87648 non-null  float64\n",
            " 13  max_air_temp_pst1hr  87648 non-null  float64\n",
            " 14  min_air_temp_pst1hr  87648 non-null  float64\n",
            "dtypes: float64(12), int64(2), object(1)\n",
            "memory usage: 10.7+ MB\n"
          ]
        }
      ],
      "source": [
        "df.info()"
      ]
    },
    {
      "cell_type": "code",
      "execution_count": 11,
      "id": "ddb483a3",
      "metadata": {
        "id": "ddb483a3"
      },
      "outputs": [],
      "source": [
        "data = df.drop(['max_air_temp_pst1hr', 'min_air_temp_pst1hr', 'pressure_sea', 'wind_dir'], axis=1)"
      ]
    },
    {
      "cell_type": "code",
      "execution_count": 12,
      "id": "151d1471",
      "metadata": {
        "id": "151d1471"
      },
      "outputs": [],
      "source": [
        "data_for_prophet = data.reset_index().rename(columns={\"date_time_local\": \"ds\", \"temperature\": \"y\"})"
      ]
    },
    {
      "cell_type": "code",
      "execution_count": 13,
      "id": "59f878b9",
      "metadata": {
        "id": "59f878b9"
      },
      "outputs": [],
      "source": [
        "train_data = data_for_prophet.loc[data.index <= \"2020-06-30\"]\n",
        "test_data = data_for_prophet.loc[data.index > \"2020-06-30\"]"
      ]
    },
    {
      "cell_type": "code",
      "execution_count": 14,
      "id": "9b70d9f3",
      "metadata": {
        "colab": {
          "base_uri": "https://localhost:8080/"
        },
        "id": "9b70d9f3",
        "outputId": "e9b01d22-8d12-4c1a-c2f2-176ca2e2dd54"
      },
      "outputs": [
        {
          "output_type": "stream",
          "name": "stdout",
          "text": [
            " train_data Shape is: (61345, 12)\n",
            " test_data Shape is: (26303, 12)\n"
          ]
        }
      ],
      "source": [
        "print(f\" train_data Shape is: {train_data.shape}\")\n",
        "print(f\" test_data Shape is: {test_data.shape}\")"
      ]
    },
    {
      "cell_type": "code",
      "execution_count": 15,
      "id": "b2472aff",
      "metadata": {
        "id": "b2472aff"
      },
      "outputs": [],
      "source": [
        "# scaler = StandardScaler()\n",
        "# train_data = scaler.fit_transform(train_data)\n",
        "# test_data = scaler.transform(test_data)"
      ]
    },
    {
      "cell_type": "code",
      "execution_count": 16,
      "id": "98834a65",
      "metadata": {
        "id": "98834a65"
      },
      "outputs": [],
      "source": [
        "model_3 = Prophet()"
      ]
    },
    {
      "cell_type": "code",
      "execution_count": 17,
      "id": "ba187e47",
      "metadata": {
        "colab": {
          "base_uri": "https://localhost:8080/"
        },
        "id": "ba187e47",
        "outputId": "364d81a3-7b38-4c93-db6c-15701debe843"
      },
      "outputs": [
        {
          "output_type": "stream",
          "name": "stderr",
          "text": [
            "DEBUG:cmdstanpy:input tempfile: /tmp/tmpeuzed4hm/qggxk77x.json\n",
            "DEBUG:cmdstanpy:input tempfile: /tmp/tmpeuzed4hm/t_kd2vzv.json\n",
            "DEBUG:cmdstanpy:idx 0\n",
            "DEBUG:cmdstanpy:running CmdStan, num_threads: None\n",
            "DEBUG:cmdstanpy:CmdStan args: ['/usr/local/lib/python3.10/dist-packages/prophet/stan_model/prophet_model.bin', 'random', 'seed=20988', 'data', 'file=/tmp/tmpeuzed4hm/qggxk77x.json', 'init=/tmp/tmpeuzed4hm/t_kd2vzv.json', 'output', 'file=/tmp/tmpeuzed4hm/prophet_modelhb57nvvb/prophet_model-20230828221358.csv', 'method=optimize', 'algorithm=lbfgs', 'iter=10000']\n",
            "22:13:58 - cmdstanpy - INFO - Chain [1] start processing\n",
            "INFO:cmdstanpy:Chain [1] start processing\n",
            "22:14:44 - cmdstanpy - INFO - Chain [1] done processing\n",
            "INFO:cmdstanpy:Chain [1] done processing\n"
          ]
        },
        {
          "output_type": "execute_result",
          "data": {
            "text/plain": [
              "<prophet.forecaster.Prophet at 0x7d96ee08cb50>"
            ]
          },
          "metadata": {},
          "execution_count": 17
        }
      ],
      "source": [
        "for column in ['pressure_station', 'wind_speed', 'wind_gust', 'relative_humidity', 'dew_point', 'windchill', 'humidex', 'visibility', 'health_index', 'cloud_okta']:\n",
        "    model_3.add_regressor(column)\n",
        "\n",
        "# Fit the model with the training data\n",
        "model_3.fit(train_data)"
      ]
    },
    {
      "cell_type": "code",
      "source": [
        "print(data.index.duplicated().sum())"
      ],
      "metadata": {
        "colab": {
          "base_uri": "https://localhost:8080/"
        },
        "id": "b8Mx-JZbOE8b",
        "outputId": "d184cd09-160f-4792-a999-672d63a70079"
      },
      "id": "b8Mx-JZbOE8b",
      "execution_count": 19,
      "outputs": [
        {
          "output_type": "stream",
          "name": "stdout",
          "text": [
            "10\n"
          ]
        }
      ]
    },
    {
      "cell_type": "code",
      "source": [
        "# Create a future dataframe\n",
        "future = pd.concat([train_data[['ds']], test_data[['ds']]], ignore_index=True)\n",
        "\n",
        "data_for_prophet.reset_index(drop=True, inplace=True)\n",
        "future.reset_index(drop=True, inplace=True)\n",
        "\n",
        "# Add additional regressor values from both training and test data\n",
        "for column in ['pressure_station', 'wind_speed', 'wind_gust', 'relative_humidity', 'dew_point', 'windchill', 'humidex', 'visibility', 'health_index', 'cloud_okta']:\n",
        "    future[column] = data_for_prophet[column]\n",
        "\n",
        "# Predict\n",
        "forecast = model_3.predict(future)"
      ],
      "metadata": {
        "id": "ToGfhsfVF5Ib"
      },
      "id": "ToGfhsfVF5Ib",
      "execution_count": 20,
      "outputs": []
    },
    {
      "cell_type": "code",
      "source": [
        "def mean_absolute_percentage_error(true_values, predicted_values):\n",
        "    \"\"\"\n",
        "    Calculate the mean absolute percentage error.\n",
        "    Find the prediction error and devide by the true value, then average.\n",
        "    \"\"\"\n",
        "    # Filter out the zero values to avoid division by zero\n",
        "    mask = true_values != 0\n",
        "    true_values = true_values[mask]\n",
        "    predicted_values = predicted_values[mask]\n",
        "\n",
        "    error = true_values - predicted_values\n",
        "    absolute_percentage_error = np.abs(error/true_values)\n",
        "    mape = absolute_percentage_error.mean() * 100\n",
        "\n",
        "    return mape"
      ],
      "metadata": {
        "id": "8V_CzjGYIMH6"
      },
      "id": "8V_CzjGYIMH6",
      "execution_count": 21,
      "outputs": []
    },
    {
      "cell_type": "code",
      "source": [
        "# Assuming 'forecast' contains the predictions for both train and test datasets\n",
        "forecast_train = forecast.loc[forecast['ds'] <= \"2020-06-30\"]\n",
        "forecast_test = forecast.loc[forecast['ds'] > \"2020-06-30\"]\n",
        "\n",
        "# Extract predicted and true values for the training data\n",
        "y_train_pred = forecast_train['yhat']\n",
        "y_train_true = train_data['y']\n",
        "\n",
        "# Compute metrics for training data\n",
        "train_mae = mean_absolute_error(y_train_true, y_train_pred)\n",
        "train_mse = mean_squared_error(y_train_true, y_train_pred)\n",
        "train_rmse = np.sqrt(train_mse)\n",
        "train_mape = mean_absolute_percentage_error(y_train_true, y_train_pred)\n",
        "train_r2 = r2_score(y_train_true, y_train_pred)\n",
        "\n",
        "print(f'''Training Data:\n",
        "Mean Absolute Error: {round(train_mae, 4)}\n",
        "Mean Squared Error: {round(train_mse, 4)}\n",
        "Root Mean Squared Error: {round(train_rmse, 4)}\n",
        "Mean Absolute Percentage Error: {round(train_mape, 2)}%\n",
        "R-squared: {train_r2}''')\n",
        "\n",
        "# Extract predicted and true values\n",
        "y_pred = forecast_test['yhat']\n",
        "y_true = test_data['y']\n",
        "\n",
        "# Compute MAE\n",
        "mae = mean_absolute_error(y_true, y_pred)\n",
        "mse = mean_squared_error(y_true, y_pred)\n",
        "rmse = np.sqrt(mse)\n",
        "mape = mean_absolute_percentage_error(y_true, y_pred)\n",
        "r2 = r2_score(y_true, y_pred)\n",
        "\n",
        "print(f'''Test Data:\n",
        "Mean Absolute Error: {round(mae, 4)}\n",
        "Mean Squared Error: {round(mse, 4)}\n",
        "Root Mean Squared Error: {round(rmse, 4)}\n",
        "Mean Absolute Percentage Error: {round(mape, 2)}%\n",
        "R-squared: {r2}''')"
      ],
      "metadata": {
        "colab": {
          "base_uri": "https://localhost:8080/"
        },
        "id": "1Ccjnn3qGObY",
        "outputId": "aff640c8-b5fc-4279-dccc-24f1b2f09a92"
      },
      "id": "1Ccjnn3qGObY",
      "execution_count": 22,
      "outputs": [
        {
          "output_type": "stream",
          "name": "stdout",
          "text": [
            "Training Data:\n",
            "Mean Absolute Error: 0.2203\n",
            "Mean Squared Error: 0.1151\n",
            "Root Mean Squared Error: 0.3393\n",
            "Mean Absolute Percentage Error: 6.46%\n",
            "R-squared: 0.9970731589220392\n",
            "Test Data:\n",
            "Mean Absolute Error: 0.3193\n",
            "Mean Squared Error: 0.201\n",
            "Root Mean Squared Error: 0.4484\n",
            "Mean Absolute Percentage Error: 8.33%\n",
            "R-squared: 0.9953109706871835\n"
          ]
        }
      ]
    },
    {
      "cell_type": "markdown",
      "source": [
        "| Metric                        | Training Data | Test Data   |\n",
        "|-------------------------------|--------------|------------|\n",
        "| Mean Absolute Error           | 0.2203       | 0.3193     |\n",
        "| Mean Squared Error            | 0.1151       | 0.201      |\n",
        "| Root Mean Squared Error       | 0.3393       | 0.4484     |\n",
        "| Mean Absolute Percentage Error| 6.46%        | 8.33%      |\n",
        "| R-squared                     | 0.9971       | 0.9953     |"
      ],
      "metadata": {
        "id": "enJByqzKJXfp"
      },
      "id": "enJByqzKJXfp"
    },
    {
      "cell_type": "code",
      "source": [
        "# Filter the forecast data to match the test_data time frame\n",
        "forecast_filtered = forecast.loc[forecast['ds'].isin(test_data['ds'])]\n",
        "\n",
        "# Extract predicted and true values\n",
        "y_pred = forecast_filtered['yhat']\n",
        "y_true = test_data['y']  # or whatever the name of your target variable is in test_data\n",
        "\n",
        "# Create a time axis\n",
        "time_axis = test_data['ds']\n",
        "\n",
        "# Plotting\n",
        "plt.figure(figsize=(16, 8))\n",
        "plt.plot(time_axis, y_true, label='Actual', color='g')\n",
        "plt.plot(time_axis, y_pred, label='Predicted', color='r')\n",
        "\n",
        "plt.xlabel('Time')\n",
        "plt.ylabel('Temperature')  # Replace with your specific unit/variable name\n",
        "plt.title('Predicted vs Actual Temperature')\n",
        "plt.legend()\n",
        "plt.show()"
      ],
      "metadata": {
        "colab": {
          "base_uri": "https://localhost:8080/",
          "height": 718
        },
        "id": "tbBTZRSHHINn",
        "outputId": "d5204d97-b62b-4e5e-c6da-0916be9e723d"
      },
      "id": "tbBTZRSHHINn",
      "execution_count": 37,
      "outputs": [
        {
          "output_type": "display_data",
          "data": {
            "text/plain": [
              "<Figure size 1600x800 with 1 Axes>"
            ],
            "image/png": "[encoded data removed]"
          },
          "metadata": {}
        }
      ]
    },
    {
      "cell_type": "code",
      "source": [
        "data_2 = df.drop(['max_air_temp_pst1hr', 'min_air_temp_pst1hr', 'pressure_sea', 'wind_dir', 'dew_point'], axis=1)"
      ],
      "metadata": {
        "id": "KUGy8YOTJdfk"
      },
      "id": "KUGy8YOTJdfk",
      "execution_count": 24,
      "outputs": []
    },
    {
      "cell_type": "code",
      "source": [
        "data_for_prophet_2 = data_2.reset_index().rename(columns={\"date_time_local\": \"ds\", \"temperature\": \"y\"})"
      ],
      "metadata": {
        "id": "9tExuaQ3Jc8n"
      },
      "id": "9tExuaQ3Jc8n",
      "execution_count": 25,
      "outputs": []
    },
    {
      "cell_type": "code",
      "source": [
        "train_data_2 = data_for_prophet_2.loc[data_2.index <= \"2020-06-30\"]\n",
        "test_data_2 = data_for_prophet_2.loc[data_2.index > \"2020-06-30\"]"
      ],
      "metadata": {
        "id": "F0n56P_GJcca"
      },
      "id": "F0n56P_GJcca",
      "execution_count": 26,
      "outputs": []
    },
    {
      "cell_type": "code",
      "source": [
        "print(f\" train_data Shape is: {train_data_2.shape}\")\n",
        "print(f\" test_data Shape is: {test_data_2.shape}\")"
      ],
      "metadata": {
        "colab": {
          "base_uri": "https://localhost:8080/"
        },
        "id": "szieTgnbL6TN",
        "outputId": "8b7ba3f3-920c-441f-b50b-de9b5ad07462"
      },
      "id": "szieTgnbL6TN",
      "execution_count": 27,
      "outputs": [
        {
          "output_type": "stream",
          "name": "stdout",
          "text": [
            " train_data Shape is: (61345, 11)\n",
            " test_data Shape is: (26303, 11)\n"
          ]
        }
      ]
    },
    {
      "cell_type": "code",
      "source": [
        "model_4 = Prophet()"
      ],
      "metadata": {
        "id": "1fvtJHEuK_gT"
      },
      "id": "1fvtJHEuK_gT",
      "execution_count": 28,
      "outputs": []
    },
    {
      "cell_type": "code",
      "execution_count": 29,
      "metadata": {
        "colab": {
          "base_uri": "https://localhost:8080/"
        },
        "outputId": "f4363bd5-6c87-402b-cc0b-691c6895378c",
        "id": "j1qp9zVbLF1B"
      },
      "outputs": [
        {
          "output_type": "stream",
          "name": "stderr",
          "text": [
            "DEBUG:cmdstanpy:input tempfile: /tmp/tmpeuzed4hm/c4l7vdpr.json\n",
            "DEBUG:cmdstanpy:input tempfile: /tmp/tmpeuzed4hm/j4idixhc.json\n",
            "DEBUG:cmdstanpy:idx 0\n",
            "DEBUG:cmdstanpy:running CmdStan, num_threads: None\n",
            "DEBUG:cmdstanpy:CmdStan args: ['/usr/local/lib/python3.10/dist-packages/prophet/stan_model/prophet_model.bin', 'random', 'seed=61392', 'data', 'file=/tmp/tmpeuzed4hm/c4l7vdpr.json', 'init=/tmp/tmpeuzed4hm/j4idixhc.json', 'output', 'file=/tmp/tmpeuzed4hm/prophet_model40df53h8/prophet_model-20230828221943.csv', 'method=optimize', 'algorithm=lbfgs', 'iter=10000']\n",
            "22:19:43 - cmdstanpy - INFO - Chain [1] start processing\n",
            "INFO:cmdstanpy:Chain [1] start processing\n",
            "22:21:09 - cmdstanpy - INFO - Chain [1] done processing\n",
            "INFO:cmdstanpy:Chain [1] done processing\n"
          ]
        },
        {
          "output_type": "execute_result",
          "data": {
            "text/plain": [
              "<prophet.forecaster.Prophet at 0x7d96ed216590>"
            ]
          },
          "metadata": {},
          "execution_count": 29
        }
      ],
      "source": [
        "for column in ['pressure_station', 'wind_speed', 'wind_gust', 'relative_humidity', 'windchill', 'humidex', 'visibility', 'health_index', 'cloud_okta']:\n",
        "    model_4.add_regressor(column)\n",
        "\n",
        "# Fit the model with the training data\n",
        "model_4.fit(train_data_2)"
      ],
      "id": "j1qp9zVbLF1B"
    },
    {
      "cell_type": "code",
      "source": [
        "# Create a future dataframe\n",
        "future_2 = pd.concat([train_data_2[['ds']], test_data_2[['ds']]], ignore_index=True)\n",
        "\n",
        "data_for_prophet_2.reset_index(drop=True, inplace=True)\n",
        "future_2.reset_index(drop=True, inplace=True)\n",
        "\n",
        "# Add additional regressor values from both training and test data\n",
        "for column in ['pressure_station', 'wind_speed', 'wind_gust', 'relative_humidity', 'windchill', 'humidex', 'visibility', 'health_index', 'cloud_okta']:\n",
        "    future_2[column] = data_for_prophet_2[column]\n",
        "\n",
        "# Predict\n",
        "forecast_2 = model_4.predict(future)"
      ],
      "metadata": {
        "id": "WskuWpyOLR-u"
      },
      "id": "WskuWpyOLR-u",
      "execution_count": 31,
      "outputs": []
    },
    {
      "cell_type": "code",
      "source": [
        "# Assuming 'forecast_2' contains the predictions for both train and test datasets\n",
        "forecast_train_2 = forecast_2.loc[forecast_2['ds'] <= \"2020-06-30\"]\n",
        "forecast_test_2 = forecast_2.loc[forecast_2['ds'] > \"2020-06-30\"]\n",
        "\n",
        "# Extract predicted and true values for the training data\n",
        "y_train_pred_2 = forecast_train_2['yhat']\n",
        "y_train_true_2 = train_data_2['y']\n",
        "\n",
        "# Compute metrics for training data\n",
        "train_mae_2 = mean_absolute_error(y_train_true_2, y_train_pred_2)\n",
        "train_mse_2 = mean_squared_error(y_train_true_2, y_train_pred_2)\n",
        "train_rmse_2 = np.sqrt(train_mse_2)\n",
        "train_mape_2 = mean_absolute_percentage_error(y_train_true_2, y_train_pred_2)\n",
        "train_r2_2 = r2_score(y_train_true_2, y_train_pred_2)\n",
        "\n",
        "print(f'''Training Data:\n",
        "Mean Absolute Error: {round(train_mae_2, 4)}\n",
        "Mean Squared Error: {round(train_mse_2, 4)}\n",
        "Root Mean Squared Error: {round(train_rmse_2, 4)}\n",
        "Mean Absolute Percentage Error: {round(train_mape_2, 2)}%\n",
        "R-squared: {train_r2_2}''')\n",
        "\n",
        "# Extract predicted and true values\n",
        "y_pred_2 = forecast_test_2['yhat']\n",
        "y_true_2 = test_data_2['y']\n",
        "\n",
        "# Compute metrics\n",
        "mae_2 = mean_absolute_error(y_true_2, y_pred_2)\n",
        "mse_2 = mean_squared_error(y_true_2, y_pred_2)\n",
        "rmse_2 = np.sqrt(mse_2)\n",
        "mape_2 = mean_absolute_percentage_error(y_true_2, y_pred_2)\n",
        "r2_2 = r2_score(y_true_2, y_pred_2)\n",
        "\n",
        "print(f'''Test Data:\n",
        "Mean Absolute Error: {round(mae_2, 4)}\n",
        "Mean Squared Error: {round(mse_2, 4)}\n",
        "Root Mean Squared Error: {round(rmse_2, 4)}\n",
        "Mean Absolute Percentage Error: {round(mape_2, 2)}%\n",
        "R-squared: {r2_2}''')"
      ],
      "metadata": {
        "colab": {
          "base_uri": "https://localhost:8080/"
        },
        "id": "nBqqBYHFLihS",
        "outputId": "1c8a7ec5-d3b9-4e4e-8ca8-e7688cef49ae"
      },
      "id": "nBqqBYHFLihS",
      "execution_count": 35,
      "outputs": [
        {
          "output_type": "stream",
          "name": "stdout",
          "text": [
            "Training Data:\n",
            "Mean Absolute Error: 1.5701\n",
            "Mean Squared Error: 4.0271\n",
            "Root Mean Squared Error: 2.0068\n",
            "Mean Absolute Percentage Error: 48.32%\n",
            "R-squared: 0.8976118513049186\n",
            "Test Data:\n",
            "Mean Absolute Error: 1.8077\n",
            "Mean Squared Error: 5.2493\n",
            "Root Mean Squared Error: 2.2911\n",
            "Mean Absolute Percentage Error: 48.86%\n",
            "R-squared: 0.8775585787291018\n"
          ]
        }
      ]
    },
    {
      "cell_type": "markdown",
      "source": [
        "| Metric                         | Training Data         | Test Data            |\n",
        "|--------------------------------|-----------------------|----------------------|\n",
        "| Mean Absolute Error            | 1.5701                | 1.8077               |\n",
        "| Mean Squared Error             | 4.0271                | 5.2493               |\n",
        "| Root Mean Squared Error        | 2.0068                | 2.2911               |\n",
        "| Mean Absolute Percentage Error | 48.32%                | 48.86%               |\n",
        "| R-squared                      | 0.8976                | 0.8776               |\n"
      ],
      "metadata": {
        "id": "E6QprgxiPuPw"
      },
      "id": "E6QprgxiPuPw"
    },
    {
      "cell_type": "code",
      "source": [
        "# Filter the forecast data to match the test_data time frame\n",
        "forecast_filtered_2 = forecast_2.loc[forecast_2['ds'].isin(test_data_2['ds'])]\n",
        "\n",
        "# Extract predicted and true values\n",
        "y_pred = forecast_filtered_2['yhat']\n",
        "y_true = test_data_2['y']  # or whatever the name of your target variable is in test_data\n",
        "\n",
        "# Create a time axis\n",
        "time_axis = test_data_2['ds']\n",
        "\n",
        "# Plotting\n",
        "plt.figure(figsize=(16, 8))\n",
        "plt.plot(time_axis, y_true_2, label='Actual', color='g')\n",
        "plt.plot(time_axis, y_pred_2, label='Predicted', color='r')\n",
        "\n",
        "plt.xlabel('Time')\n",
        "plt.ylabel('Temperature')  # Replace with your specific unit/variable name\n",
        "plt.title('Predicted vs Actual Temperature')\n",
        "plt.legend()\n",
        "plt.show()"
      ],
      "metadata": {
        "colab": {
          "base_uri": "https://localhost:8080/",
          "height": 718
        },
        "id": "SbYjQ_gaQsJh",
        "outputId": "93f60f78-ab0e-40e3-9706-734e857cfde7"
      },
      "id": "SbYjQ_gaQsJh",
      "execution_count": 38,
      "outputs": [
        {
          "output_type": "display_data",
          "data": {
            "text/plain": [
              "<Figure size 1600x800 with 1 Axes>"
            ],
            "image/png": "[encoded data removed]"
          },
          "metadata": {}
        }
      ]
    }
  ],
  "metadata": {
    "kernelspec": {
      "display_name": "time_series",
      "language": "python",
      "name": "time_series"
    },
    "language_info": {
      "codemirror_mode": {
        "name": "ipython",
        "version": 3
      },
      "file_extension": ".py",
      "mimetype": "text/x-python",
      "name": "python",
      "nbconvert_exporter": "python",
      "pygments_lexer": "ipython3",
      "version": "3.8.17"
    },
    "colab": {
      "provenance": []
    }
  },
  "nbformat": 4,
  "nbformat_minor": 5
}